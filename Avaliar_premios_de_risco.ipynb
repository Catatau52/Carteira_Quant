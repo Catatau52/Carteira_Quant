{
  "nbformat": 4,
  "nbformat_minor": 0,
  "metadata": {
    "colab": {
      "provenance": [],
      "authorship_tag": "ABX9TyPgMS//OQYWgcvr/+ryvlcL",
      "include_colab_link": true
    },
    "kernelspec": {
      "name": "python3",
      "display_name": "Python 3"
    },
    "language_info": {
      "name": "python"
    }
  },
  "cells": [
    {
      "cell_type": "markdown",
      "metadata": {
        "id": "view-in-github",
        "colab_type": "text"
      },
      "source": [
        "<a href=\"https://colab.research.google.com/github/Catatau52/Carteira_Quant/blob/main/Etapa_03_Avaliar_premios_de_risco.ipynb\" target=\"_parent\"><img src=\"https://colab.research.google.com/assets/colab-badge.svg\" alt=\"Open In Colab\"/></a>"
      ]
    },
    {
      "cell_type": "code",
      "source": [
        "!pip install mplcyberpunk"
      ],
      "metadata": {
        "colab": {
          "base_uri": "https://localhost:8080/"
        },
        "id": "yr8icdwesRz3",
        "outputId": "329e7738-2a4e-4bcc-d518-c2079817ddf0"
      },
      "execution_count": null,
      "outputs": [
        {
          "output_type": "stream",
          "name": "stdout",
          "text": [
            "Collecting mplcyberpunk\n",
            "  Downloading mplcyberpunk-0.7.0-py3-none-any.whl (6.3 kB)\n",
            "Requirement already satisfied: matplotlib in /usr/local/lib/python3.10/dist-packages (from mplcyberpunk) (3.7.1)\n",
            "Requirement already satisfied: contourpy>=1.0.1 in /usr/local/lib/python3.10/dist-packages (from matplotlib->mplcyberpunk) (1.1.0)\n",
            "Requirement already satisfied: cycler>=0.10 in /usr/local/lib/python3.10/dist-packages (from matplotlib->mplcyberpunk) (0.11.0)\n",
            "Requirement already satisfied: fonttools>=4.22.0 in /usr/local/lib/python3.10/dist-packages (from matplotlib->mplcyberpunk) (4.42.1)\n",
            "Requirement already satisfied: kiwisolver>=1.0.1 in /usr/local/lib/python3.10/dist-packages (from matplotlib->mplcyberpunk) (1.4.4)\n",
            "Requirement already satisfied: numpy>=1.20 in /usr/local/lib/python3.10/dist-packages (from matplotlib->mplcyberpunk) (1.23.5)\n",
            "Requirement already satisfied: packaging>=20.0 in /usr/local/lib/python3.10/dist-packages (from matplotlib->mplcyberpunk) (23.1)\n",
            "Requirement already satisfied: pillow>=6.2.0 in /usr/local/lib/python3.10/dist-packages (from matplotlib->mplcyberpunk) (9.4.0)\n",
            "Requirement already satisfied: pyparsing>=2.3.1 in /usr/local/lib/python3.10/dist-packages (from matplotlib->mplcyberpunk) (3.1.1)\n",
            "Requirement already satisfied: python-dateutil>=2.7 in /usr/local/lib/python3.10/dist-packages (from matplotlib->mplcyberpunk) (2.8.2)\n",
            "Requirement already satisfied: six>=1.5 in /usr/local/lib/python3.10/dist-packages (from python-dateutil>=2.7->matplotlib->mplcyberpunk) (1.16.0)\n",
            "Installing collected packages: mplcyberpunk\n",
            "Successfully installed mplcyberpunk-0.7.0\n"
          ]
        }
      ]
    },
    {
      "cell_type": "code",
      "source": [
        "import pandas as pd\n",
        "import numpy as np\n",
        "import mplcyberpunk\n",
        "import matplotlib.pyplot as plt\n",
        "import matplotlib.ticker as mtick\n",
        "import os\n",
        "import matplotlib\n",
        "matplotlib.rcParams.update({'font.size': 9})\n",
        "import datetime\n",
        "plt.style.use(\"cyberpunk\")\n"
      ],
      "metadata": {
        "id": "cUYIVBMwrflH"
      },
      "execution_count": null,
      "outputs": []
    },
    {
      "cell_type": "code",
      "source": [
        "!pip install fpdf"
      ],
      "metadata": {
        "colab": {
          "base_uri": "https://localhost:8080/"
        },
        "id": "EXVpHp6atJPP",
        "outputId": "5ec62da7-2cb2-459c-a8de-5c3fb1504c5d"
      },
      "execution_count": null,
      "outputs": [
        {
          "output_type": "stream",
          "name": "stdout",
          "text": [
            "Collecting fpdf\n",
            "  Downloading fpdf-1.7.2.tar.gz (39 kB)\n",
            "  Preparing metadata (setup.py) ... \u001b[?25l\u001b[?25hdone\n",
            "Building wheels for collected packages: fpdf\n",
            "  Building wheel for fpdf (setup.py) ... \u001b[?25l\u001b[?25hdone\n",
            "  Created wheel for fpdf: filename=fpdf-1.7.2-py2.py3-none-any.whl size=40704 sha256=0f8252062c9aab1c8770ef3723ac1fc9b9b06f14d96760aa71dc2565c936ba6f\n",
            "  Stored in directory: /root/.cache/pip/wheels/f9/95/ba/f418094659025eb9611f17cbcaf2334236bf39a0c3453ea455\n",
            "Successfully built fpdf\n",
            "Installing collected packages: fpdf\n",
            "Successfully installed fpdf-1.7.2\n"
          ]
        }
      ]
    },
    {
      "cell_type": "code",
      "source": [
        "from google.colab import drive\n",
        "drive.mount('/content/drive')\n",
        "\n",
        "import sys\n",
        "sys.path.append('/content/drive/MyDrive/Colab Notebooks/Carteira_Quant/Libs')\n",
        "\n",
        "from report_pdf_fatores import MakePDF"
      ],
      "metadata": {
        "colab": {
          "base_uri": "https://localhost:8080/"
        },
        "id": "wVHM20uasoV3",
        "outputId": "60f51d32-1a43-45eb-b932-662d919fbebb"
      },
      "execution_count": null,
      "outputs": [
        {
          "output_type": "stream",
          "name": "stdout",
          "text": [
            "Mounted at /content/drive\n"
          ]
        }
      ]
    },
    {
      "cell_type": "code",
      "execution_count": null,
      "metadata": {
        "id": "w9f0TPaxrdnZ"
      },
      "outputs": [],
      "source": [
        "\n",
        "class MakeResultsPremium:\n",
        "\n",
        "    def __init__(self, dicionario_fatores, data_final_analise, caminho_imagens, nome_arquivo = 'premios_de_risco.pdf',\n",
        "                 caminho_premios_de_risco = '.'):\n",
        "\n",
        "\n",
        "        self.dicionario_fatores = dicionario_fatores\n",
        "        self.lista_nome_fatores = []\n",
        "        self.liquidez = []\n",
        "        self.caminho_premios_de_risco = caminho_premios_de_risco\n",
        "\n",
        "        for key, item in dicionario_fatores.items():\n",
        "\n",
        "            self.lista_nome_fatores.append(key)\n",
        "            self.liquidez.append(item)\n",
        "\n",
        "\n",
        "        self.data_final_analise = (datetime.datetime.strptime(data_final_analise, '%Y-%m-%d')).date()\n",
        "        self.caminho_imagens = caminho_imagens\n",
        "        self.nome_arquivo = nome_arquivo\n",
        "        os.chdir(caminho_imagens)\n",
        "\n",
        "    def puxando_dados(self):\n",
        "\n",
        "        lista_dfs = []\n",
        "        data_inicial = []\n",
        "\n",
        "        for i, nome_premio in enumerate(self.lista_nome_fatores):\n",
        "\n",
        "            #df = pd.read_parquet(f'{self.caminho_premios_de_risco}/{nome_premio}_{self.liquidez[i]}.parquet')\n",
        "            df = pd.read_parquet(f'{self.caminho_premios_de_risco}/{nome_premio}.parquet')\n",
        "            df['data'] = pd.to_datetime(df['data']).dt.date\n",
        "\n",
        "            lista_dfs.append(df)\n",
        "            data_inicial.append(min(df['data']))\n",
        "\n",
        "        self.premios_de_risco = pd.concat(lista_dfs)\n",
        "        data_inicial = max(data_inicial)\n",
        "\n",
        "        self.premios_de_risco = self.premios_de_risco[(self.premios_de_risco['data'] >= data_inicial) &\n",
        "                                                      (self.premios_de_risco['data'] <= self.data_final_analise)]\n",
        "\n",
        "        #self.premios_de_risco = self.premios_de_risco.assign(premio_fator =\n",
        "        #                                                    (1 + self.premios_de_risco['primeiro_quartil'])/(1 + self.premios_de_risco['quarto_quartil']))\n",
        "        self.premios_de_risco = self.premios_de_risco.assign(premio_fator =\n",
        "                                                             (1 + self.premios_de_risco['primeiro_quartil'])/(1 + self.premios_de_risco['universo']))\n",
        "        self.premios_de_risco = self.premios_de_risco.assign(premio_fator_2 =\n",
        "                                                             (1 + self.premios_de_risco['primeiro_quartil'])/(1 + self.premios_de_risco['quarto_quartil']))\n",
        "\n",
        "\n",
        "        self.premios_de_risco['primeiro_quartil'] = 1 + self.premios_de_risco['primeiro_quartil']\n",
        "        self.premios_de_risco['segundo_quartil'] = 1 + self.premios_de_risco['segundo_quartil']\n",
        "        self.premios_de_risco['terceiro_quartil'] = 1 + self.premios_de_risco['terceiro_quartil']\n",
        "        self.premios_de_risco['quarto_quartil'] = 1 + self.premios_de_risco['quarto_quartil']\n",
        "        #self.premios_de_risco['quinto_quartil'] = 1 + self.premios_de_risco['quinto_quartil']\n",
        "        self.premios_de_risco['universo'] = 1 + self.premios_de_risco['universo']\n",
        "\n",
        "    def retorno_quartis(self):\n",
        "\n",
        "        df_primeiro_quartis = pd.DataFrame(index = self.premios_de_risco['data'].unique())\n",
        "        df_premios_de_risco = pd.DataFrame(index = self.premios_de_risco['data'].unique())\n",
        "\n",
        "        for i, nome_premio in enumerate(self.lista_nome_fatores):\n",
        "\n",
        "            fator = self.premios_de_risco[(self.premios_de_risco['nome_premio'] == nome_premio) &\n",
        "                                            (self.premios_de_risco['liquidez'] == self.liquidez[i])]\n",
        "\n",
        "            acum_primeiro_quartil = (fator['primeiro_quartil'].cumprod() - 1).iloc[-1]\n",
        "            acum_segundo_quartil = (fator['segundo_quartil'].cumprod() - 1).iloc[-1]\n",
        "            acum_terceiro_quartil = (fator['terceiro_quartil'].cumprod() - 1).iloc[-1]\n",
        "            acum_quarto_quartil = (fator['quarto_quartil'].cumprod() - 1).iloc[-1]\n",
        "            #acum_quinto_quartil = (fator['quinto_quartil'].cumprod() - 1).iloc[-1]\n",
        "\n",
        "            fig, ax = plt.subplots(figsize = (4.75, 4))\n",
        "\n",
        "            ax.bar(0, acum_primeiro_quartil)\n",
        "            ax.bar(1, acum_segundo_quartil)\n",
        "            ax.bar(2, acum_terceiro_quartil)\n",
        "            ax.bar(3, acum_quarto_quartil)\n",
        "            #ax.bar(4, acum_quinto_quartil)\n",
        "\n",
        "            ax.yaxis.set_major_formatter(mtick.PercentFormatter(1))\n",
        "\n",
        "            plt.xticks([0, 1, 2, 3], ['1º Quartil', '2º Quartil', '3º Quartil', '4º Quartil'])\n",
        "            #plt.xticks([0, 1, 2, 3, 4], ['1º Quartil', '2º Quartil', '3º Quartil', '4º Quartil','5º Quartil'])\n",
        "\n",
        "            plt.title(nome_premio)\n",
        "\n",
        "            plt.savefig(f'{self.caminho_imagens}/barras_quartis_{nome_premio}_{self.liquidez[i]}')\n",
        "\n",
        "            plt.close()\n",
        "\n",
        "            fig, ax = plt.subplots(figsize = (4.75, 4))\n",
        "\n",
        "            ax.plot(fator['data'].values, (fator['primeiro_quartil'].cumprod() - 1), label = '1º Quartil')\n",
        "            ax.plot(fator['data'].values, (fator['segundo_quartil'].cumprod() - 1), label = '2º Quartil')\n",
        "            ax.plot(fator['data'].values, (fator['terceiro_quartil'].cumprod() - 1), label = '3º Quartil')\n",
        "            ax.plot(fator['data'].values, (fator['quarto_quartil'].cumprod() - 1), label = '4º Quartil')\n",
        "            #ax.plot(fator['data'].values, (fator['quinto_quartil'].cumprod() - 1), label = '5º Quartil')\n",
        "            ax.plot(fator['data'].values, (fator['universo'].cumprod() - 1), label = 'Universo')\n",
        "\n",
        "            plt.legend()\n",
        "\n",
        "            ax.yaxis.set_major_formatter(mtick.PercentFormatter(1))\n",
        "\n",
        "            plt.title(nome_premio)\n",
        "\n",
        "            plt.savefig(f'{self.caminho_imagens}/linha_quartis_{nome_premio}_{self.liquidez[i]}')\n",
        "\n",
        "            plt.close()\n",
        "\n",
        "            #grafico de prêmio do fator\n",
        "\n",
        "            fig, ax = plt.subplots(figsize = (4.75, 4))\n",
        "\n",
        "            #ax.plot(fator['data'].values, (fator['premio_fator'].cumprod() - 1))\n",
        "            ax.plot(fator['data'].values, (fator['premio_fator_2'].cumprod() - 1))\n",
        "\n",
        "            ax.yaxis.set_major_formatter(mtick.PercentFormatter(1))\n",
        "\n",
        "            plt.title(nome_premio + \" 1º Quartil minus 4º quartil\")\n",
        "\n",
        "            plt.savefig(f'{self.caminho_imagens}/premio_de_risco_{nome_premio}_{self.liquidez[i]}')\n",
        "\n",
        "            plt.close()\n",
        "\n",
        "            #janela movel\n",
        "\n",
        "            serie_movel = pd.Series(data = fator['premio_fator'].rolling(12).apply(np.prod, raw = True) - 1)\n",
        "\n",
        "            serie_movel.index = fator['data'].values\n",
        "\n",
        "            serie_movel = serie_movel.dropna()\n",
        "\n",
        "            fig, ax = plt.subplots(figsize = (4.75, 4))\n",
        "\n",
        "            ax.plot(serie_movel.index, serie_movel.values)\n",
        "\n",
        "            ax.yaxis.set_major_formatter(mtick.PercentFormatter(1))\n",
        "\n",
        "            plt.title(nome_premio + \" Janela móvel 12M\")\n",
        "\n",
        "            plt.savefig(f'{self.caminho_imagens}/movel_12m_premio_de_risco_{nome_premio}_{self.liquidez[i]}')\n",
        "\n",
        "            plt.close()\n",
        "\n",
        "            df_primeiro_quartis.loc[:, f\"{nome_premio}\"] = (fator['primeiro_quartil'].cumprod() - 1).values\n",
        "            df_premios_de_risco.loc[:, f\"{nome_premio}\"] = (fator['premio_fator'].cumprod() - 1).values\n",
        "\n",
        "        matplotlib.rcParams.update({'font.size': 11})\n",
        "\n",
        "        fig, ax = plt.subplots(figsize = (9, 4.5))\n",
        "\n",
        "        for coluna in df_primeiro_quartis.columns:\n",
        "\n",
        "            ax.plot(df_primeiro_quartis.index, df_primeiro_quartis[coluna].values, label = f'{coluna}')\n",
        "\n",
        "        plt.legend()\n",
        "\n",
        "        ax.yaxis.set_major_formatter(mtick.PercentFormatter(1))\n",
        "\n",
        "        plt.title('Comparação entre 1º quartil')\n",
        "\n",
        "        plt.savefig(f'{self.caminho_imagens}/comparando_1Q')\n",
        "\n",
        "        plt.close()\n",
        "\n",
        "        fig, ax = plt.subplots(figsize = (9, 4.5))\n",
        "\n",
        "        for coluna in df_premios_de_risco.columns:\n",
        "\n",
        "            ax.plot(df_premios_de_risco.index, df_premios_de_risco[coluna].values, label = f'{coluna}')\n",
        "\n",
        "        plt.legend()\n",
        "\n",
        "        ax.yaxis.set_major_formatter(mtick.PercentFormatter(1))\n",
        "\n",
        "        plt.title('Comparação entre prêmios de risco')\n",
        "\n",
        "        plt.savefig(f'{self.caminho_imagens}/comparando_premios')\n",
        "\n",
        "        plt.close()\n",
        "\n",
        "        self.matriz_correl = df_premios_de_risco.corr()\n",
        "\n",
        "\n",
        "    def fazer_pdf(self):\n",
        "\n",
        "        MakePDF(fatores = self.lista_nome_fatores, liquidez = self.liquidez, matriz_correl = self.matriz_correl,\n",
        "                caminho_imagens=self.caminho_imagens, nome_arquivo=self.nome_arquivo)\n",
        "\n",
        "\n",
        "\n",
        "\n",
        "\n",
        "if __name__ == \"__main__\":\n",
        "\n",
        "    dicionario_fatores = {\n",
        "                          #'ROE': 1000000,\n",
        "                          #'ROIC': 1000000,\n",
        "                          #'EBIT_EV': 1000000,\n",
        "                          #'EV_EBIT': 1000000,\n",
        "                          #'L_P': 1000000,\n",
        "                          #'P_L': 1000000,\n",
        "                          #'mm_7_40': 1000000, #\n",
        "                          #'ValorDeMercado_Cres': 1000000,\n",
        "                          #'ValorDeMercado_Decres': 1000000,\n",
        "                          #'indicador_pl_db': 1000000,\n",
        "                          #'indicador_vpa': 1000000,\n",
        "                          #'ebit_divliq': 1000000, #\n",
        "                          #'LPA': 1000000,\n",
        "                          # 'indicador_lucro_ev' : 1000000,\n",
        "                          # 'indicador_receita_ev' : 1000000, #\n",
        "                          # 'indicador_lucro12m_ev' : 1000000,\n",
        "                          # 'indicador_receita12m_ev' : 1000000,\n",
        "                          #'indicador_EV_Div' : 1000000, #\n",
        "                          #'My_EV_ebit' : 1000000, #\n",
        "                          #'My_ebit_EV' : 1000000,\n",
        "                          #'indicador_ebit_Receita' : 1000000,\n",
        "                          #'indicador_lucro_Receita' : 1000000\n",
        "                          #'p_vp' : 1000000, #\n",
        "                          #'p_sr' : 1000000, #\n",
        "                          #'indicador_p_ebit' : 1000000,\n",
        "                          #'indicador_Peg_ratio' : 1000000\n",
        "                          # 'momento_1_meses' : 1000000,\n",
        "                          # 'momento_3_meses' : 1000000,\n",
        "                          # 'momento_6_meses' : 1000000,\n",
        "                          # 'momento_12_meses' : 1000000,\n",
        "                          # 'mm_9_21' : 1000000,\n",
        "                          # 'mm_13_26' : 1000000,\n",
        "                          # 'mm_13_48' : 1000000,\n",
        "                          # 'mm_14_40' : 1000000,\n",
        "                          'mm_20_100' : 1000000,\n",
        "                          'mm_50_200' : 1000000,\n",
        "                          'mm_20_80' : 1000000,\n",
        "                          'mm_20_50' : 1000000,\n",
        "\n",
        "                           }\n",
        "\n",
        "    premios = MakeResultsPremium(data_final_analise=\"2023-07-31\", dicionario_fatores=dicionario_fatores,\n",
        "                                 caminho_imagens = r'/content/drive/MyDrive/Colab Notebooks/Carteira_Quant/imagens',\n",
        "                                 nome_arquivo = r'/content/drive/MyDrive/Colab Notebooks/Carteira_Quant/backtest/avaliando_todos_premios.pdf',\n",
        "                                 caminho_premios_de_risco=r'/content/drive/MyDrive/Colab Notebooks/Carteira_Quant/base_dados_br/premios_risco_br')\n",
        "\n",
        "\n",
        "\n",
        "    premios.puxando_dados()\n",
        "    premios.retorno_quartis()\n",
        "    premios.fazer_pdf()\n",
        "\n",
        "\n"
      ]
    },
    {
      "cell_type": "code",
      "source": [
        "df = pd.read_parquet('/content/drive/MyDrive/Colab Notebooks/Carteira_Quant/base_dados_br/premios_risco_br/indicador_Peg_ratio.parquet')\n",
        "df.head(3)"
      ],
      "metadata": {
        "id": "iezYPWeX3ChC"
      },
      "execution_count": null,
      "outputs": []
    },
    {
      "cell_type": "code",
      "source": [
        "df = pd.read_parquet('/content/drive/MyDrive/Colab Notebooks/Carteira_Quant/base_dados_br/premios_risco_br/Premio_risco_ValorDeMercado_1000000.parquet')\n",
        "df.head(3)"
      ],
      "metadata": {
        "id": "LqAXk9wl3Q6X"
      },
      "execution_count": null,
      "outputs": []
    },
    {
      "cell_type": "code",
      "source": [
        "df = pd.read_parquet('/content/drive/MyDrive/Colab Notebooks/Carteira_Quant/base_dados_br/premios_risco_br/Premio_risco_indicador_pl_ta_1000000.parquet')\n",
        "df.head(3)"
      ],
      "metadata": {
        "id": "x1bJtOGSxemu"
      },
      "execution_count": null,
      "outputs": []
    },
    {
      "cell_type": "code",
      "source": [],
      "metadata": {
        "id": "23h2i-aPxkCm"
      },
      "execution_count": null,
      "outputs": []
    }
  ]
}
